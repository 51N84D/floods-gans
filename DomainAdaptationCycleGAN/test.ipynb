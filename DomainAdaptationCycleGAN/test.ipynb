{
 "cells": [
  {
   "cell_type": "code",
   "execution_count": 1,
   "metadata": {},
   "outputs": [
    {
     "name": "stdout",
     "output_type": "stream",
     "text": [
      "/network/home/bansalsa/cyclegan\r\n"
     ]
    }
   ],
   "source": [
    "!pwd"
   ]
  },
  {
   "cell_type": "code",
   "execution_count": 2,
   "metadata": {},
   "outputs": [
    {
     "name": "stdout",
     "output_type": "stream",
     "text": [
      "checkpoints\t\tenvironment.yml  Original_README.md  test.py\r\n",
      "data\t\t\timgs\t\t Readme.md\t     test.sh\r\n",
      "datasets\t\tLICENSE\t\t requirements.txt    train.py\r\n",
      "docs\t\t\tmodels\t\t scripts\t     Untitled.ipynb\r\n",
      "domainadaptation.ipynb\toptions\t\t test.ipynb\t     util\r\n"
     ]
    }
   ],
   "source": [
    "!ls"
   ]
  },
  {
   "cell_type": "code",
   "execution_count": 4,
   "metadata": {},
   "outputs": [
    {
     "name": "stdout",
     "output_type": "stream",
     "text": [
      "COMET INFO: old comet version (2.0.0) detected. current: 2.0.5 please update your comet lib with command: `pip install --no-cache-dir --upgrade comet_ml`\n",
      "COMET INFO: Experiment is live on comet.ml https://www.comet.ml/bsahil29/ccai-instagan/f32fe1e077dd4c099efb9d803091ddbd\n",
      "\n",
      "----------------- Options ---------------\n",
      "             aspect_ratio: 1.0                           \n",
      "               batch_size: 1                             \n",
      "          checkpoints_dir: /network/tmp1/ccai/data/domain_adaptation\t[default: ./checkpoints]\n",
      "                crop_size: 256                           \n",
      "                 dataroot: /network/tmp1/ccai/data/elementai_data/\t[default: None]\n",
      "             dataset_mode: unaligned                     \n",
      "                direction: AtoB                          \n",
      "          display_winsize: 256                           \n",
      "                    epoch: latest                        \n",
      "                     eval: False                         \n",
      "                  gpu_ids: 0                             \n",
      "                init_gain: 0.02                          \n",
      "                init_type: normal                        \n",
      "                 input_nc: 3                             \n",
      "                  isTrain: False                         \t[default: None]\n",
      "                load_iter: 0                             \t[default: 0]\n",
      "                load_size: 256                           \n",
      "         max_dataset_size: inf                           \n",
      "                    model: cycle_gan                     \t[default: test]\n",
      "               n_layers_D: 3                             \n",
      "                     name: element_ai_off_to_on          \t[default: experiment_name]\n",
      "                      ndf: 64                            \n",
      "                     netD: basic                         \n",
      "                     netG: resnet_9blocks                \n",
      "                      ngf: 64                            \n",
      "               no_dropout: True                          \n",
      "                  no_flip: False                         \n",
      "                     norm: instance                      \n",
      "                    ntest: inf                           \n",
      "                 num_test: 50                            \n",
      "              num_threads: 4                             \n",
      "                output_nc: 3                             \n",
      "                    phase: test                          \n",
      "               preprocess: resize_and_crop               \n",
      "              results_dir: ./results/                    \n",
      "           serial_batches: False                         \n",
      "                   suffix:                               \n",
      "                  verbose: False                         \n",
      "----------------- End -------------------\n",
      "dataset [UnalignedDataset] was created\n",
      "initialize network with normal\n",
      "initialize network with normal\n",
      "model [CycleGANModel] was created\n",
      "loading the model from /network/tmp1/ccai/data/domain_adaptation/element_ai_off_to_on/latest_net_G_A.pth\n",
      "loading the model from /network/tmp1/ccai/data/domain_adaptation/element_ai_off_to_on/latest_net_G_B.pth\n",
      "---------- Networks initialized -------------\n",
      "[Network G_A] Total number of parameters : 11.378 M\n",
      "[Network G_B] Total number of parameters : 11.378 M\n",
      "-----------------------------------------------\n",
      "processing (0000)-th image... ['/network/tmp1/ccai/data/elementai_data/testA/00_fake_B.png']\n",
      "processing (0005)-th image... ['/network/tmp1/ccai/data/elementai_data/testA/22_fake_B.png']\n",
      "processing (0010)-th image... ['/network/tmp1/ccai/data/elementai_data/testA/37_fake_B.png']\n",
      "processing (0015)-th image... ['/network/tmp1/ccai/data/elementai_data/testA/04_fake_B.png']\n",
      "processing (0020)-th image... ['/network/tmp1/ccai/data/elementai_data/testA/26_fake_B.png']\n",
      "processing (0025)-th image... ['/network/tmp1/ccai/data/elementai_data/testA/38_fake_B.png']\n",
      "processing (0030)-th image... ['/network/tmp1/ccai/data/elementai_data/testA/17_fake_B.png']\n",
      "processing (0035)-th image... ['/network/tmp1/ccai/data/elementai_data/testA/28_fake_B.png']\n",
      "processing (0040)-th image... ['/network/tmp1/ccai/data/elementai_data/testA/45_fake_B.png']\n",
      "processing (0045)-th image... ['/network/tmp1/ccai/data/elementai_data/testA/18_fake_B.png']\n",
      "COMET INFO: ----------------------------\n",
      "COMET INFO: Comet.ml Experiment Summary:\n",
      "COMET INFO:   Data:\n",
      "COMET INFO:     url: https://www.comet.ml/bsahil29/ccai-instagan/f32fe1e077dd4c099efb9d803091ddbd\n",
      "COMET INFO:   Metrics [count] (min, max):\n",
      "COMET INFO:     sys.gpu.0.free_memory    : (2098069504.0, 2098069504.0)\n",
      "COMET INFO:     sys.gpu.0.gpu_utilization: (0.0, 0.0)\n",
      "COMET INFO:     sys.gpu.0.total_memory   : (2098069504.0, 2098069504.0)\n",
      "COMET INFO:     sys.gpu.0.used_memory    : (0.0, 0.0)\n",
      "COMET INFO:     sys.gpu.1.free_memory    : (12806062080.0, 12806062080.0)\n",
      "COMET INFO:     sys.gpu.1.gpu_utilization: (0.0, 0.0)\n",
      "COMET INFO:     sys.gpu.1.total_memory   : (12806062080.0, 12806062080.0)\n",
      "COMET INFO:     sys.gpu.1.used_memory    : (0.0, 0.0)\n",
      "COMET INFO:   Uploads:\n",
      "COMET INFO:     assets : 0\n",
      "COMET INFO:     figures: 0\n",
      "COMET INFO:     images : 300\n",
      "COMET INFO: ----------------------------\n",
      "COMET INFO: Uploading stats to Comet before program termination (may take several seconds)\n"
     ]
    }
   ],
   "source": [
    "!python test.py --dataroot /network/tmp1/ccai/data/elementai_data/ --name element_ai_off_to_on --model cycle_gan --no_dropout --checkpoints_dir /network/tmp1/ccai/data/domain_adaptation"
   ]
  },
  {
   "cell_type": "code",
   "execution_count": null,
   "metadata": {},
   "outputs": [],
   "source": []
  }
 ],
 "metadata": {
  "kernelspec": {
   "display_name": "Python 3",
   "language": "python",
   "name": "python3"
  },
  "language_info": {
   "codemirror_mode": {
    "name": "ipython",
    "version": 3
   },
   "file_extension": ".py",
   "mimetype": "text/x-python",
   "name": "python",
   "nbconvert_exporter": "python",
   "pygments_lexer": "ipython3",
   "version": "3.6.8"
  }
 },
 "nbformat": 4,
 "nbformat_minor": 2
}
